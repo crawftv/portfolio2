{
 "cells": [
  {
   "cell_type": "code",
   "execution_count": 1,
   "metadata": {},
   "outputs": [],
   "source": [
    "%load_ext autoreload"
   ]
  },
  {
   "cell_type": "code",
   "execution_count": 2,
   "metadata": {},
   "outputs": [],
   "source": [
    "%autoreload 2"
   ]
  },
  {
   "cell_type": "code",
   "execution_count": 3,
   "metadata": {},
   "outputs": [],
   "source": [
    "import sqlite3"
   ]
  },
  {
   "cell_type": "code",
   "execution_count": 8,
   "metadata": {},
   "outputs": [
    {
     "ename": "SyntaxError",
     "evalue": "invalid syntax (<ipython-input-8-51bdb8ea314f>, line 3)",
     "output_type": "error",
     "traceback": [
      "\u001b[1;36m  File \u001b[1;32m\"<ipython-input-8-51bdb8ea314f>\"\u001b[1;36m, line \u001b[1;32m3\u001b[0m\n\u001b[1;33m    avg(created_at_unix) as timestamp\u001b[0m\n\u001b[1;37m                         ^\u001b[0m\n\u001b[1;31mSyntaxError\u001b[0m\u001b[1;31m:\u001b[0m invalid syntax\n"
     ]
    }
   ],
   "source": [
    "import sys\n",
    "sys.path.append('../')\n"
   ]
  },
  {
   "cell_type": "markdown",
   "metadata": {},
   "source": [
    "# Repos"
   ]
  },
  {
   "cell_type": "code",
   "execution_count": null,
   "metadata": {},
   "outputs": [],
   "source": [
    "import requests\n",
    "\n",
    "base_url = \"https://api.github.com\"\n",
    "user = \"crawftv\"\n",
    "\n",
    "r = requests.get(f\"{base_url}/users/{user}/repos?sort=pushed\")\n"
   ]
  },
  {
   "cell_type": "code",
   "execution_count": null,
   "metadata": {},
   "outputs": [],
   "source": [
    "from srv.data_types import RepoResponse\n",
    "repo = RepoResponse(*list(r.json()[0].values()))"
   ]
  },
  {
   "cell_type": "code",
   "execution_count": null,
   "metadata": {},
   "outputs": [],
   "source": [
    "# with sqlite3.connect(\"../portfolio.db\") as c:\n",
    "#     c.execute(\"\"\"\n",
    "#     CREATE TABLE repos \n",
    "#     (id int PRIMARY KEY, node_id text, name text UNIQUE, full_name text, private int, html_url text, description text, pushed_at_unix real, updated_at_unix real, created_at_unix real)\"\"\")"
   ]
  },
  {
   "cell_type": "code",
   "execution_count": null,
   "metadata": {},
   "outputs": [],
   "source": [
    "for zz in range(1,6):\n",
    "    r = requests.get(f\"{base_url}/users/{user}/repos?page={zz}\")\n",
    "    for i in r.json():\n",
    "        repo = RepoResponse(*i.values())\n",
    "        with sqlite3.connect(\"portfolio.db\") as c:\n",
    "            repo_ids = [ i[0] for i in c.execute(\"Select id from repos\")]\n",
    "            try:\n",
    "                c.execute(f\"\"\"INSERT INTO repos VALUES ({repo.id},'{repo.node_id}', \"{repo.name}\", \"{repo.full_name}\", {int(repo.private)},\"{repo.html_url}\",\"{repo.description}\",{repo.pushed_at_unix},{repo.updated_at_unix},{repo.created_at_unix})\"\"\")\n",
    "            except Exception as e:\n",
    "                print(f\"ERROR: {repo.name}, {e}\")\n",
    "        "
   ]
  },
  {
   "cell_type": "code",
   "execution_count": null,
   "metadata": {},
   "outputs": [],
   "source": [
    "with sqlite3.connect(\"../portfolio.db\") as c:\n",
    "    cc = c.cursor().execute(f\"\"\"select count(id) from repos\"\"\")\n",
    "    for row in cc:\n",
    "        print(row)"
   ]
  },
  {
   "cell_type": "code",
   "execution_count": 6,
   "metadata": {},
   "outputs": [],
   "source": [
    "# with sqlite3.connect(\"../portfolio.db\") as c:\n",
    "#     c.cursor().execute(f\"\"\"DROP VIEW repo_count; \"\"\")"
   ]
  },
  {
   "cell_type": "markdown",
   "metadata": {},
   "source": [
    "# Events"
   ]
  },
  {
   "cell_type": "code",
   "execution_count": 5,
   "metadata": {},
   "outputs": [],
   "source": [
    "import requests\n",
    "from srv.data_types import EventResponse\n",
    "base_url = \"https://api.github.com\"\n",
    "user = \"crawftv\""
   ]
  },
  {
   "cell_type": "code",
   "execution_count": 110,
   "metadata": {},
   "outputs": [],
   "source": [
    "# with sqlite3.connect(\"../srv/portfolio.db\") as c:\n",
    "#     c.execute(\"\"\"\n",
    "#     CREATE TABLE events \n",
    "#     (id text PRIMARY KEY, type text, repo_id int, created_at_unix real, created_at_ymd text )\n",
    "#     \"\"\")\n",
    "#     c.execute(\"\"\"\n",
    "#     CREATE INDEX repo_event_idx on events(repo_id)\"\"\")"
   ]
  },
  {
   "cell_type": "code",
   "execution_count": 111,
   "metadata": {},
   "outputs": [],
   "source": [
    "for zz in range(1,11):\n",
    "    r = requests.get(f\"{base_url}/users/{user}/events?page={zz}\")\n",
    "    for i in r.json():\n",
    "        if i[\"type\"] not in [\"ForkEvent\",\"WatchEvent\"]:\n",
    "            event = EventResponse(*i.values())\n",
    "            with sqlite3.connect(\"../srv/portfolio.db\") as c:\n",
    "                c.execute(f\"\"\"\n",
    "                INSERT INTO events\n",
    "                VALUES (\"{event.id}\", \"{event.type}\",{event.repo_id}, {event.created_at_unix}, \"{event.created_at_ymd}\")\n",
    "                \"\"\")"
   ]
  },
  {
   "cell_type": "code",
   "execution_count": 108,
   "metadata": {},
   "outputs": [],
   "source": [
    "# with sqlite3.connect(\"../srv/portfolio.db\") as c:\n",
    "#     c.cursor().execute(f\"\"\"DROP TABLE events \"\"\")"
   ]
  },
  {
   "cell_type": "code",
   "execution_count": 112,
   "metadata": {},
   "outputs": [
    {
     "name": "stdout",
     "output_type": "stream",
     "text": [
      "(89,)\n"
     ]
    }
   ],
   "source": [
    "with sqlite3.connect(\"../srv/portfolio.db\") as c:\n",
    "    cc = c.cursor().execute(\"SELECT count(*) from events\")\n",
    "    for i in cc:\n",
    "        print(i)"
   ]
  },
  {
   "cell_type": "markdown",
   "metadata": {},
   "source": [
    "# Aggregate Events table"
   ]
  },
  {
   "cell_type": "code",
   "execution_count": 114,
   "metadata": {},
   "outputs": [],
   "source": [
    "# with sqlite3.connect(\"../srv/portfolio.db\") as c:\n",
    "#     c.cursor().execute(f\"\"\"DROP TABLE aggregate_events \"\"\")"
   ]
  },
  {
   "cell_type": "code",
   "execution_count": 116,
   "metadata": {},
   "outputs": [],
   "source": [
    "# ## create table\n",
    "# with sqlite3.connect(\"file:../srv/portfolio.db\",uri=True) as c:\n",
    "#     cc = c.cursor().execute(\"\"\"\n",
    "#     CREATE TABLE aggregate_events\n",
    "#     (created_at_ymd text PRIMARY KEY, event_count int DEFAULT 0, unix_time real)\n",
    "#     \"\"\")"
   ]
  },
  {
   "cell_type": "code",
   "execution_count": 117,
   "metadata": {},
   "outputs": [],
   "source": [
    "# get values from other tabel\n",
    "with sqlite3.connect(\"file:../srv/portfolio.db?mode=ro\",uri=True) as c:\n",
    "    #c.row_factory = lambda c, r: dict(zip([col[0] for col in c.description], r))    \n",
    "    cc = c.cursor().execute(\"\"\"\n",
    "    SELECT created_at_ymd , COUNT(created_at_ymd)\n",
    "    FROM events\n",
    "    GROUP BY created_at_ymd\n",
    "    ORDER BY avg(created_at_unix)\n",
    "    \"\"\")\n",
    "    rows = [ i for i in  cc.fetchall()]"
   ]
  },
  {
   "cell_type": "code",
   "execution_count": 119,
   "metadata": {},
   "outputs": [],
   "source": [
    "import dateutil\n",
    "rows = [ (i[0],i[1], dateutil.parser.parse(i[0]).timestamp() ) for i in rows]"
   ]
  },
  {
   "cell_type": "code",
   "execution_count": 120,
   "metadata": {},
   "outputs": [],
   "source": [
    "# insert the aggregated rows\n",
    "with sqlite3.connect(\"file:../srv/portfolio.db\",uri=True) as c:\n",
    "    cc = c.cursor().executemany(\"\"\"INSERT INTO aggregate_events VALUES (?,?,?)\"\"\", rows)    "
   ]
  },
  {
   "cell_type": "code",
   "execution_count": 121,
   "metadata": {},
   "outputs": [],
   "source": [
    "#check it\n",
    "with sqlite3.connect(\"file:../srv/portfolio.db?mode=ro\",uri=True) as c:\n",
    "    cc = c.cursor().execute(\"\"\"\n",
    "    SELECT * from aggregate_events\n",
    "    ORDER BY unix_time\n",
    "    \"\"\")\n",
    "    rows = [i for i in cc.fetchall()]"
   ]
  },
  {
   "cell_type": "code",
   "execution_count": 123,
   "metadata": {},
   "outputs": [],
   "source": [
    "def make_timestamp(date_string):\n",
    "    return dateutil.parser.parse(date_string).timestamp()"
   ]
  },
  {
   "cell_type": "code",
   "execution_count": 128,
   "metadata": {},
   "outputs": [],
   "source": [
    "# add missing values\n",
    "\n",
    "\n",
    "# for i in range(18,32):\n",
    "#     dstring = f\"2020-01-{i:02d}\"\n",
    "#     row = (dstring,0,make_timestamp(dstring) )    \n",
    "#     with sqlite3.connect(\"file:../srv/portfolio.db\",uri=True) as c:\n",
    "#         try : cc = c.cursor().execute(\"\"\"\n",
    "#         INSERT into aggregate_events VALUES(?,?,?)\n",
    "#         \"\"\", row)\n",
    "#         except Exception as e:\n",
    "#             print(f\"Error: {dstring}, {e}\")"
   ]
  }
 ],
 "metadata": {
  "kernelspec": {
   "display_name": "Python 3",
   "language": "python",
   "name": "python3"
  },
  "language_info": {
   "codemirror_mode": {
    "name": "ipython",
    "version": 3
   },
   "file_extension": ".py",
   "mimetype": "text/x-python",
   "name": "python",
   "nbconvert_exporter": "python",
   "pygments_lexer": "ipython3",
   "version": "3.8.2"
  }
 },
 "nbformat": 4,
 "nbformat_minor": 4
}
