{
 "cells": [
  {
   "cell_type": "code",
   "execution_count": 3,
   "metadata": {},
   "outputs": [],
   "source": [
    "%load_ext autoreload"
   ]
  },
  {
   "cell_type": "code",
   "execution_count": 4,
   "metadata": {},
   "outputs": [],
   "source": [
    "%autoreload 2"
   ]
  },
  {
   "cell_type": "code",
   "execution_count": 5,
   "metadata": {},
   "outputs": [],
   "source": [
    "import sqlite3"
   ]
  },
  {
   "cell_type": "code",
   "execution_count": 6,
   "metadata": {},
   "outputs": [],
   "source": [
    "import sys\n",
    "sys.path.append('../')"
   ]
  },
  {
   "cell_type": "markdown",
   "metadata": {},
   "source": [
    "# Repos"
   ]
  },
  {
   "cell_type": "code",
   "execution_count": 7,
   "metadata": {},
   "outputs": [],
   "source": [
    "import requests\n",
    "\n",
    "base_url = \"https://api.github.com\"\n",
    "user = \"crawftv\"\n",
    "\n",
    "r = requests.get(f\"{base_url}/users/{user}/repos?sort=pushed\")\n"
   ]
  },
  {
   "cell_type": "code",
   "execution_count": 8,
   "metadata": {},
   "outputs": [],
   "source": [
    "from srv.data_types import RepoResponse\n",
    "repo = RepoResponse(*list(r.json()[0].values()))"
   ]
  },
  {
   "cell_type": "code",
   "execution_count": 66,
   "metadata": {},
   "outputs": [],
   "source": [
    "with sqlite3.connect(\"../portfolio.db\") as c:\n",
    "    c.execute(\"\"\"\n",
    "    CREATE TABLE repos \n",
    "    (id int PRIMARY KEY, node_id text, name text UNIQUE, full_name text, private int, html_url text, description text, pushed_at_unix real, updated_at_unix real, created_at_unix real)\"\"\")"
   ]
  },
  {
   "cell_type": "code",
   "execution_count": 67,
   "metadata": {},
   "outputs": [
    {
     "name": "stdout",
     "output_type": "stream",
     "text": [
      "ERROR: Probabilistic-Programming-and-Bayesian-Methods-for-Hackers, near \"Bayesian\": syntax error\n"
     ]
    }
   ],
   "source": [
    "for zz in range(1,6):\n",
    "    r = requests.get(f\"{base_url}/users/{user}/repos?page={zz}\")\n",
    "    for i in r.json():\n",
    "        repo = RepoResponse(*i.values())\n",
    "        with sqlite3.connect(\"portfolio.db\") as c:\n",
    "            repo_ids = [ i[0] for i in c.execute(\"Select id from repos\")]\n",
    "            try:\n",
    "                c.execute(f\"\"\"INSERT INTO repos VALUES ({repo.id},'{repo.node_id}', \"{repo.name}\", \"{repo.full_name}\", {int(repo.private)},\"{repo.html_url}\",\"{repo.description}\",{repo.pushed_at_unix},{repo.updated_at_unix},{repo.created_at_unix})\"\"\")\n",
    "            except Exception as e:\n",
    "                print(f\"ERROR: {repo.name}, {e}\")\n",
    "        "
   ]
  },
  {
   "cell_type": "code",
   "execution_count": 68,
   "metadata": {},
   "outputs": [
    {
     "name": "stdout",
     "output_type": "stream",
     "text": [
      "(90,)\n"
     ]
    }
   ],
   "source": [
    "with sqlite3.connect(\"../portfolio.db\") as c:\n",
    "    cc = c.cursor().execute(f\"\"\"select count(id) from repos\"\"\")\n",
    "    for row in cc:\n",
    "        print(row)"
   ]
  },
  {
   "cell_type": "code",
   "execution_count": 65,
   "metadata": {},
   "outputs": [],
   "source": [
    "# with sqlite3.connect(\"portfolio.db\") as c:\n",
    "#     c.cursor().execute(f\"\"\"DROP TABLE repos \"\"\")"
   ]
  },
  {
   "cell_type": "markdown",
   "metadata": {},
   "source": [
    "# Events"
   ]
  },
  {
   "cell_type": "code",
   "execution_count": 59,
   "metadata": {},
   "outputs": [],
   "source": [
    "from srv.data_types import EventResponse\n",
    "base_url = \"https://api.github.com\"\n",
    "user = \"crawftv\""
   ]
  },
  {
   "cell_type": "code",
   "execution_count": 101,
   "metadata": {},
   "outputs": [],
   "source": [
    "# with sqlite3.connect(\"../portfolio.db\") as c:\n",
    "#     c.execute(\"\"\"\n",
    "#     CREATE TABLE events \n",
    "#     (id text PRIMARY KEY, type text, created_at_unix real, repo_id int)\n",
    "#     \"\"\")\n",
    "#     c.execute(\"\"\"\n",
    "#     CREATE INDEX repo_event_idx on events(repo_id)\"\"\")"
   ]
  },
  {
   "cell_type": "code",
   "execution_count": 92,
   "metadata": {},
   "outputs": [
    {
     "ename": "TypeError",
     "evalue": "string indices must be integers",
     "output_type": "error",
     "traceback": [
      "\u001b[1;31m---------------------------------------------------------------------------\u001b[0m",
      "\u001b[1;31mTypeError\u001b[0m                                 Traceback (most recent call last)",
      "\u001b[1;32m<ipython-input-92-0f08b78746d8>\u001b[0m in \u001b[0;36m<module>\u001b[1;34m\u001b[0m\n\u001b[0;32m      2\u001b[0m     \u001b[0mr\u001b[0m \u001b[1;33m=\u001b[0m \u001b[0mrequests\u001b[0m\u001b[1;33m.\u001b[0m\u001b[0mget\u001b[0m\u001b[1;33m(\u001b[0m\u001b[1;34mf\"{base_url}/users/{user}/events?page={zz}\"\u001b[0m\u001b[1;33m)\u001b[0m\u001b[1;33m\u001b[0m\u001b[1;33m\u001b[0m\u001b[0m\n\u001b[0;32m      3\u001b[0m     \u001b[1;32mfor\u001b[0m \u001b[0mi\u001b[0m \u001b[1;32min\u001b[0m \u001b[0mr\u001b[0m\u001b[1;33m.\u001b[0m\u001b[0mjson\u001b[0m\u001b[1;33m(\u001b[0m\u001b[1;33m)\u001b[0m\u001b[1;33m:\u001b[0m\u001b[1;33m\u001b[0m\u001b[1;33m\u001b[0m\u001b[0m\n\u001b[1;32m----> 4\u001b[1;33m         \u001b[1;32mif\u001b[0m \u001b[0mi\u001b[0m\u001b[1;33m[\u001b[0m\u001b[1;34m\"type\"\u001b[0m\u001b[1;33m]\u001b[0m \u001b[1;32mnot\u001b[0m \u001b[1;32min\u001b[0m \u001b[1;33m[\u001b[0m\u001b[1;34m\"ForkEvent\"\u001b[0m\u001b[1;33m,\u001b[0m\u001b[1;34m\"WatchEvent\"\u001b[0m\u001b[1;33m]\u001b[0m\u001b[1;33m:\u001b[0m\u001b[1;33m\u001b[0m\u001b[1;33m\u001b[0m\u001b[0m\n\u001b[0m\u001b[0;32m      5\u001b[0m             \u001b[0mevent\u001b[0m \u001b[1;33m=\u001b[0m \u001b[0mEventResponse\u001b[0m\u001b[1;33m(\u001b[0m\u001b[1;33m*\u001b[0m\u001b[0mi\u001b[0m\u001b[1;33m.\u001b[0m\u001b[0mvalues\u001b[0m\u001b[1;33m(\u001b[0m\u001b[1;33m)\u001b[0m\u001b[1;33m)\u001b[0m\u001b[1;33m\u001b[0m\u001b[1;33m\u001b[0m\u001b[0m\n\u001b[0;32m      6\u001b[0m             \u001b[1;32mwith\u001b[0m \u001b[0msqlite3\u001b[0m\u001b[1;33m.\u001b[0m\u001b[0mconnect\u001b[0m\u001b[1;33m(\u001b[0m\u001b[1;34m\"portfolio.db\"\u001b[0m\u001b[1;33m)\u001b[0m \u001b[1;32mas\u001b[0m \u001b[0mc\u001b[0m\u001b[1;33m:\u001b[0m\u001b[1;33m\u001b[0m\u001b[1;33m\u001b[0m\u001b[0m\n",
      "\u001b[1;31mTypeError\u001b[0m: string indices must be integers"
     ]
    }
   ],
   "source": [
    "for zz in range(1,11):\n",
    "    r = requests.get(f\"{base_url}/users/{user}/events?page={zz}\")\n",
    "    for i in r.json():\n",
    "        if i[\"type\"] not in [\"ForkEvent\",\"WatchEvent\"]:\n",
    "            event = EventResponse(*i.values())\n",
    "            with sqlite3.connect(\"portfolio.db\") as c:\n",
    "                c.execute(f\"\"\"\n",
    "                INSERT INTO events\n",
    "                VALUES (\"{event.id}\", \"{event.type}\", {event.created_at_unix},{event.repo_id})\n",
    "                \"\"\")"
   ]
  },
  {
   "cell_type": "code",
   "execution_count": 95,
   "metadata": {},
   "outputs": [
    {
     "data": {
      "text/plain": [
       "{'message': \"API rate limit exceeded for 108.167.65.65. (But here's the good news: Authenticated requests get a higher rate limit. Check out the documentation for more details.)\",\n",
       " 'documentation_url': 'https://developer.github.com/v3/#rate-limiting'}"
      ]
     },
     "execution_count": 95,
     "metadata": {},
     "output_type": "execute_result"
    }
   ],
   "source": [
    "r.json()"
   ]
  },
  {
   "cell_type": "code",
   "execution_count": 97,
   "metadata": {},
   "outputs": [],
   "source": [
    "# with sqlite3.connect(\"portfolio.db\") as c:\n",
    "#     c.cursor().execute(f\"\"\"DROP TABLE events \"\"\")"
   ]
  },
  {
   "cell_type": "code",
   "execution_count": null,
   "metadata": {},
   "outputs": [],
   "source": []
  }
 ],
 "metadata": {
  "kernelspec": {
   "display_name": "Python 3",
   "language": "python",
   "name": "python3"
  },
  "language_info": {
   "codemirror_mode": {
    "name": "ipython",
    "version": 3
   },
   "file_extension": ".py",
   "mimetype": "text/x-python",
   "name": "python",
   "nbconvert_exporter": "python",
   "pygments_lexer": "ipython3",
   "version": "3.8.2"
  }
 },
 "nbformat": 4,
 "nbformat_minor": 4
}
