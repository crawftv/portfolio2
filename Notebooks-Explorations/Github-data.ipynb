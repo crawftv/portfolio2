{
 "cells": [
  {
   "cell_type": "code",
   "execution_count": 1,
   "metadata": {},
   "outputs": [],
   "source": [
    "%load_ext autoreload"
   ]
  },
  {
   "cell_type": "code",
   "execution_count": 2,
   "metadata": {},
   "outputs": [],
   "source": [
    "%autoreload 2"
   ]
  },
  {
   "cell_type": "code",
   "execution_count": 3,
   "metadata": {},
   "outputs": [],
   "source": [
    "import sqlite3"
   ]
  },
  {
   "cell_type": "code",
   "execution_count": 4,
   "metadata": {},
   "outputs": [],
   "source": [
    "import sys\n",
    "sys.path.append('../')"
   ]
  },
  {
   "cell_type": "markdown",
   "metadata": {},
   "source": [
    "# Repos"
   ]
  },
  {
   "cell_type": "code",
   "execution_count": null,
   "metadata": {},
   "outputs": [],
   "source": [
    "import requests\n",
    "\n",
    "base_url = \"https://api.github.com\"\n",
    "user = \"crawftv\"\n",
    "\n",
    "r = requests.get(f\"{base_url}/users/{user}/repos?sort=pushed\")\n"
   ]
  },
  {
   "cell_type": "code",
   "execution_count": null,
   "metadata": {},
   "outputs": [],
   "source": [
    "from srv.data_types import RepoResponse\n",
    "repo = RepoResponse(*list(r.json()[0].values()))"
   ]
  },
  {
   "cell_type": "code",
   "execution_count": null,
   "metadata": {},
   "outputs": [],
   "source": [
    "with sqlite3.connect(\"../portfolio.db\") as c:\n",
    "    c.execute(\"\"\"\n",
    "    CREATE TABLE repos \n",
    "    (id int PRIMARY KEY, node_id text, name text UNIQUE, full_name text, private int, html_url text, description text, pushed_at_unix real, updated_at_unix real, created_at_unix real)\"\"\")"
   ]
  },
  {
   "cell_type": "code",
   "execution_count": null,
   "metadata": {},
   "outputs": [],
   "source": [
    "for zz in range(1,6):\n",
    "    r = requests.get(f\"{base_url}/users/{user}/repos?page={zz}\")\n",
    "    for i in r.json():\n",
    "        repo = RepoResponse(*i.values())\n",
    "        with sqlite3.connect(\"portfolio.db\") as c:\n",
    "            repo_ids = [ i[0] for i in c.execute(\"Select id from repos\")]\n",
    "            try:\n",
    "                c.execute(f\"\"\"INSERT INTO repos VALUES ({repo.id},'{repo.node_id}', \"{repo.name}\", \"{repo.full_name}\", {int(repo.private)},\"{repo.html_url}\",\"{repo.description}\",{repo.pushed_at_unix},{repo.updated_at_unix},{repo.created_at_unix})\"\"\")\n",
    "            except Exception as e:\n",
    "                print(f\"ERROR: {repo.name}, {e}\")\n",
    "        "
   ]
  },
  {
   "cell_type": "code",
   "execution_count": null,
   "metadata": {},
   "outputs": [],
   "source": [
    "with sqlite3.connect(\"../portfolio.db\") as c:\n",
    "    cc = c.cursor().execute(f\"\"\"select count(id) from repos\"\"\")\n",
    "    for row in cc:\n",
    "        print(row)"
   ]
  },
  {
   "cell_type": "code",
   "execution_count": 6,
   "metadata": {},
   "outputs": [],
   "source": [
    "# with sqlite3.connect(\"../portfolio.db\") as c:\n",
    "#     c.cursor().execute(f\"\"\"DROP VIEW repo_count; \"\"\")"
   ]
  },
  {
   "cell_type": "markdown",
   "metadata": {},
   "source": [
    "# Events"
   ]
  },
  {
   "cell_type": "code",
   "execution_count": null,
   "metadata": {},
   "outputs": [],
   "source": [
    "from srv.data_types import EventResponse\n",
    "base_url = \"https://api.github.com\"\n",
    "user = \"crawftv\""
   ]
  },
  {
   "cell_type": "code",
   "execution_count": null,
   "metadata": {},
   "outputs": [],
   "source": [
    "# with sqlite3.connect(\"../portfolio.db\") as c:\n",
    "#     c.execute(\"\"\"\n",
    "#     CREATE TABLE events \n",
    "#     (id text PRIMARY KEY, type text, created_at_unix real, repo_id int)\n",
    "#     \"\"\")\n",
    "#     c.execute(\"\"\"\n",
    "#     CREATE INDEX repo_event_idx on events(repo_id)\"\"\")"
   ]
  },
  {
   "cell_type": "code",
   "execution_count": null,
   "metadata": {},
   "outputs": [],
   "source": [
    "for zz in range(1,11):\n",
    "    r = requests.get(f\"{base_url}/users/{user}/events?page={zz}\")\n",
    "    for i in r.json():\n",
    "        if i[\"type\"] not in [\"ForkEvent\",\"WatchEvent\"]:\n",
    "            event = EventResponse(*i.values())\n",
    "            with sqlite3.connect(\"../portfolio.db\") as c:\n",
    "                c.execute(f\"\"\"\n",
    "                INSERT INTO events\n",
    "                VALUES (\"{event.id}\", \"{event.type}\", {event.created_at_unix},{event.repo_id})\n",
    "                \"\"\")"
   ]
  },
  {
   "cell_type": "code",
   "execution_count": null,
   "metadata": {},
   "outputs": [],
   "source": [
    "# with sqlite3.connect(\"portfolio.db\") as c:\n",
    "#     c.cursor().execute(f\"\"\"DROP TABLE events \"\"\")"
   ]
  },
  {
   "cell_type": "code",
   "execution_count": null,
   "metadata": {},
   "outputs": [],
   "source": [
    "with sqlite3.connect(\"../portfolio.db\") as c:\n",
    "    cc = c.cursor().execute(\"SELECT Count(*) from events\")\n",
    "    for i in cc:\n",
    "        print(i)"
   ]
  },
  {
   "cell_type": "code",
   "execution_count": null,
   "metadata": {},
   "outputs": [],
   "source": []
  }
 ],
 "metadata": {
  "kernelspec": {
   "display_name": "Python 3",
   "language": "python",
   "name": "python3"
  },
  "language_info": {
   "codemirror_mode": {
    "name": "ipython",
    "version": 3
   },
   "file_extension": ".py",
   "mimetype": "text/x-python",
   "name": "python",
   "nbconvert_exporter": "python",
   "pygments_lexer": "ipython3",
   "version": "3.8.2"
  }
 },
 "nbformat": 4,
 "nbformat_minor": 4
}
